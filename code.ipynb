{
 "cells": [
  {
   "cell_type": "code",
   "execution_count": 76,
   "metadata": {},
   "outputs": [],
   "source": [
    "import pandas as pd\n",
    "import numpy as np\n",
    "import matplotlib.pyplot as plt\n",
    "import seaborn as sns\n",
    "%matplotlib inline\n",
    "from scipy import stats\n",
    "from sklearn.preprocessing import MinMaxScaler\n"
   ]
  },
  {
   "cell_type": "code",
   "execution_count": 2,
   "metadata": {},
   "outputs": [],
   "source": [
    "db=pd.read_csv('CAvideos_cc50_202101.csv')"
   ]
  },
  {
   "cell_type": "code",
   "execution_count": 8,
   "metadata": {},
   "outputs": [
    {
     "name": "stdout",
     "output_type": "stream",
     "text": [
      "<class 'pandas.core.frame.DataFrame'>\n",
      "RangeIndex: 40881 entries, 0 to 40880\n",
      "Data columns (total 20 columns):\n",
      " #   Column                  Non-Null Count  Dtype  \n",
      "---  ------                  --------------  -----  \n",
      " 0   video_id                40881 non-null  object \n",
      " 1   trending_date           40881 non-null  object \n",
      " 2   title                   40881 non-null  object \n",
      " 3   channel_title           40881 non-null  object \n",
      " 4   category_id             40881 non-null  int64  \n",
      " 5   publish_time            40881 non-null  object \n",
      " 6   tags                    40881 non-null  object \n",
      " 7   views                   40881 non-null  int64  \n",
      " 8   likes                   40881 non-null  int64  \n",
      " 9   dislikes                40881 non-null  int64  \n",
      " 10  comment_count           40881 non-null  int64  \n",
      " 11  thumbnail_link          40881 non-null  object \n",
      " 12  comments_disabled       40881 non-null  bool   \n",
      " 13  ratings_disabled        40881 non-null  bool   \n",
      " 14  video_error_or_removed  40881 non-null  bool   \n",
      " 15  description             39585 non-null  object \n",
      " 16  state                   40881 non-null  object \n",
      " 17  lat                     40881 non-null  float64\n",
      " 18  lon                     40881 non-null  float64\n",
      " 19  geometry                40881 non-null  object \n",
      "dtypes: bool(3), float64(2), int64(5), object(10)\n",
      "memory usage: 5.4+ MB\n"
     ]
    }
   ],
   "source": [
    "db.info()"
   ]
  },
  {
   "cell_type": "code",
   "execution_count": 7,
   "metadata": {},
   "outputs": [
    {
     "data": {
      "text/html": [
       "<div>\n",
       "<style scoped>\n",
       "    .dataframe tbody tr th:only-of-type {\n",
       "        vertical-align: middle;\n",
       "    }\n",
       "\n",
       "    .dataframe tbody tr th {\n",
       "        vertical-align: top;\n",
       "    }\n",
       "\n",
       "    .dataframe thead th {\n",
       "        text-align: right;\n",
       "    }\n",
       "</style>\n",
       "<table border=\"1\" class=\"dataframe\">\n",
       "  <thead>\n",
       "    <tr style=\"text-align: right;\">\n",
       "      <th></th>\n",
       "      <th>video_id</th>\n",
       "      <th>trending_date</th>\n",
       "      <th>title</th>\n",
       "      <th>channel_title</th>\n",
       "      <th>category_id</th>\n",
       "      <th>publish_time</th>\n",
       "      <th>tags</th>\n",
       "      <th>views</th>\n",
       "      <th>likes</th>\n",
       "      <th>dislikes</th>\n",
       "      <th>comment_count</th>\n",
       "      <th>thumbnail_link</th>\n",
       "      <th>comments_disabled</th>\n",
       "      <th>ratings_disabled</th>\n",
       "      <th>video_error_or_removed</th>\n",
       "      <th>description</th>\n",
       "      <th>state</th>\n",
       "      <th>lat</th>\n",
       "      <th>lon</th>\n",
       "      <th>geometry</th>\n",
       "    </tr>\n",
       "  </thead>\n",
       "  <tbody>\n",
       "    <tr>\n",
       "      <th>0</th>\n",
       "      <td>n1WpP7iowLc</td>\n",
       "      <td>17.14.11</td>\n",
       "      <td>Eminem - Walk On Water (Audio) ft. Beyoncé</td>\n",
       "      <td>EminemVEVO</td>\n",
       "      <td>10</td>\n",
       "      <td>2017-11-10T17:00:03.000Z</td>\n",
       "      <td>Eminem|\"Walk\"|\"On\"|\"Water\"|\"Aftermath/Shady/In...</td>\n",
       "      <td>17158579</td>\n",
       "      <td>787425</td>\n",
       "      <td>43420</td>\n",
       "      <td>125882</td>\n",
       "      <td>https://i.ytimg.com/vi/n1WpP7iowLc/default.jpg</td>\n",
       "      <td>False</td>\n",
       "      <td>False</td>\n",
       "      <td>False</td>\n",
       "      <td>Eminem's new track Walk on Water ft. Beyoncé i...</td>\n",
       "      <td>Manitoba</td>\n",
       "      <td>50.150025</td>\n",
       "      <td>-96.883322</td>\n",
       "      <td>POINT (-96.88332178 50.15002545)</td>\n",
       "    </tr>\n",
       "    <tr>\n",
       "      <th>1</th>\n",
       "      <td>0dBIkQ4Mz1M</td>\n",
       "      <td>17.14.11</td>\n",
       "      <td>PLUSH - Bad Unboxing Fan Mail</td>\n",
       "      <td>iDubbbzTV</td>\n",
       "      <td>23</td>\n",
       "      <td>2017-11-13T17:00:00.000Z</td>\n",
       "      <td>plush|\"bad unboxing\"|\"unboxing\"|\"fan mail\"|\"id...</td>\n",
       "      <td>1014651</td>\n",
       "      <td>127794</td>\n",
       "      <td>1688</td>\n",
       "      <td>13030</td>\n",
       "      <td>https://i.ytimg.com/vi/0dBIkQ4Mz1M/default.jpg</td>\n",
       "      <td>False</td>\n",
       "      <td>False</td>\n",
       "      <td>False</td>\n",
       "      <td>STill got a lot of packages. Probably will las...</td>\n",
       "      <td>British Columbia</td>\n",
       "      <td>49.099960</td>\n",
       "      <td>-116.516697</td>\n",
       "      <td>POINT (-116.516697 49.09996035)</td>\n",
       "    </tr>\n",
       "    <tr>\n",
       "      <th>2</th>\n",
       "      <td>5qpjK5DgCt4</td>\n",
       "      <td>17.14.11</td>\n",
       "      <td>Racist Superman | Rudy Mancuso, King Bach &amp; Le...</td>\n",
       "      <td>Rudy Mancuso</td>\n",
       "      <td>23</td>\n",
       "      <td>2017-11-12T19:05:24.000Z</td>\n",
       "      <td>racist superman|\"rudy\"|\"mancuso\"|\"king\"|\"bach\"...</td>\n",
       "      <td>3191434</td>\n",
       "      <td>146035</td>\n",
       "      <td>5339</td>\n",
       "      <td>8181</td>\n",
       "      <td>https://i.ytimg.com/vi/5qpjK5DgCt4/default.jpg</td>\n",
       "      <td>False</td>\n",
       "      <td>False</td>\n",
       "      <td>False</td>\n",
       "      <td>WATCH MY PREVIOUS VIDEO ▶ \\n\\nSUBSCRIBE ► http...</td>\n",
       "      <td>New Brunswick</td>\n",
       "      <td>45.267042</td>\n",
       "      <td>-66.076675</td>\n",
       "      <td>POINT (-66.07667505000001 45.26704185)</td>\n",
       "    </tr>\n",
       "    <tr>\n",
       "      <th>3</th>\n",
       "      <td>d380meD0W0M</td>\n",
       "      <td>17.14.11</td>\n",
       "      <td>I Dare You: GOING BALD!?</td>\n",
       "      <td>nigahiga</td>\n",
       "      <td>24</td>\n",
       "      <td>2017-11-12T18:01:41.000Z</td>\n",
       "      <td>ryan|\"higa\"|\"higatv\"|\"nigahiga\"|\"i dare you\"|\"...</td>\n",
       "      <td>2095828</td>\n",
       "      <td>132239</td>\n",
       "      <td>1989</td>\n",
       "      <td>17518</td>\n",
       "      <td>https://i.ytimg.com/vi/d380meD0W0M/default.jpg</td>\n",
       "      <td>False</td>\n",
       "      <td>False</td>\n",
       "      <td>False</td>\n",
       "      <td>I know it's been a while since we did this sho...</td>\n",
       "      <td>Saskatchewan</td>\n",
       "      <td>50.933311</td>\n",
       "      <td>-102.799989</td>\n",
       "      <td>POINT (-102.7999891 50.93331097)</td>\n",
       "    </tr>\n",
       "    <tr>\n",
       "      <th>4</th>\n",
       "      <td>2Vv-BfVoq4g</td>\n",
       "      <td>17.14.11</td>\n",
       "      <td>Ed Sheeran - Perfect (Official Music Video)</td>\n",
       "      <td>Ed Sheeran</td>\n",
       "      <td>10</td>\n",
       "      <td>2017-11-09T11:04:14.000Z</td>\n",
       "      <td>edsheeran|\"ed sheeran\"|\"acoustic\"|\"live\"|\"cove...</td>\n",
       "      <td>33523622</td>\n",
       "      <td>1634130</td>\n",
       "      <td>21082</td>\n",
       "      <td>85067</td>\n",
       "      <td>https://i.ytimg.com/vi/2Vv-BfVoq4g/default.jpg</td>\n",
       "      <td>False</td>\n",
       "      <td>False</td>\n",
       "      <td>False</td>\n",
       "      <td>🎧: https://ad.gt/yt-perfect\\n💰: https://atlant...</td>\n",
       "      <td>Alberta</td>\n",
       "      <td>53.016698</td>\n",
       "      <td>-112.816639</td>\n",
       "      <td>POINT (-112.8166386 53.01669802)</td>\n",
       "    </tr>\n",
       "  </tbody>\n",
       "</table>\n",
       "</div>"
      ],
      "text/plain": [
       "      video_id trending_date  \\\n",
       "0  n1WpP7iowLc      17.14.11   \n",
       "1  0dBIkQ4Mz1M      17.14.11   \n",
       "2  5qpjK5DgCt4      17.14.11   \n",
       "3  d380meD0W0M      17.14.11   \n",
       "4  2Vv-BfVoq4g      17.14.11   \n",
       "\n",
       "                                               title channel_title  \\\n",
       "0         Eminem - Walk On Water (Audio) ft. Beyoncé    EminemVEVO   \n",
       "1                      PLUSH - Bad Unboxing Fan Mail     iDubbbzTV   \n",
       "2  Racist Superman | Rudy Mancuso, King Bach & Le...  Rudy Mancuso   \n",
       "3                           I Dare You: GOING BALD!?      nigahiga   \n",
       "4        Ed Sheeran - Perfect (Official Music Video)    Ed Sheeran   \n",
       "\n",
       "   category_id              publish_time  \\\n",
       "0           10  2017-11-10T17:00:03.000Z   \n",
       "1           23  2017-11-13T17:00:00.000Z   \n",
       "2           23  2017-11-12T19:05:24.000Z   \n",
       "3           24  2017-11-12T18:01:41.000Z   \n",
       "4           10  2017-11-09T11:04:14.000Z   \n",
       "\n",
       "                                                tags     views    likes  \\\n",
       "0  Eminem|\"Walk\"|\"On\"|\"Water\"|\"Aftermath/Shady/In...  17158579   787425   \n",
       "1  plush|\"bad unboxing\"|\"unboxing\"|\"fan mail\"|\"id...   1014651   127794   \n",
       "2  racist superman|\"rudy\"|\"mancuso\"|\"king\"|\"bach\"...   3191434   146035   \n",
       "3  ryan|\"higa\"|\"higatv\"|\"nigahiga\"|\"i dare you\"|\"...   2095828   132239   \n",
       "4  edsheeran|\"ed sheeran\"|\"acoustic\"|\"live\"|\"cove...  33523622  1634130   \n",
       "\n",
       "   dislikes  comment_count                                  thumbnail_link  \\\n",
       "0     43420         125882  https://i.ytimg.com/vi/n1WpP7iowLc/default.jpg   \n",
       "1      1688          13030  https://i.ytimg.com/vi/0dBIkQ4Mz1M/default.jpg   \n",
       "2      5339           8181  https://i.ytimg.com/vi/5qpjK5DgCt4/default.jpg   \n",
       "3      1989          17518  https://i.ytimg.com/vi/d380meD0W0M/default.jpg   \n",
       "4     21082          85067  https://i.ytimg.com/vi/2Vv-BfVoq4g/default.jpg   \n",
       "\n",
       "   comments_disabled  ratings_disabled  video_error_or_removed  \\\n",
       "0              False             False                   False   \n",
       "1              False             False                   False   \n",
       "2              False             False                   False   \n",
       "3              False             False                   False   \n",
       "4              False             False                   False   \n",
       "\n",
       "                                         description             state  \\\n",
       "0  Eminem's new track Walk on Water ft. Beyoncé i...          Manitoba   \n",
       "1  STill got a lot of packages. Probably will las...  British Columbia   \n",
       "2  WATCH MY PREVIOUS VIDEO ▶ \\n\\nSUBSCRIBE ► http...     New Brunswick   \n",
       "3  I know it's been a while since we did this sho...      Saskatchewan   \n",
       "4  🎧: https://ad.gt/yt-perfect\\n💰: https://atlant...           Alberta   \n",
       "\n",
       "         lat         lon                                geometry  \n",
       "0  50.150025  -96.883322        POINT (-96.88332178 50.15002545)  \n",
       "1  49.099960 -116.516697         POINT (-116.516697 49.09996035)  \n",
       "2  45.267042  -66.076675  POINT (-66.07667505000001 45.26704185)  \n",
       "3  50.933311 -102.799989        POINT (-102.7999891 50.93331097)  \n",
       "4  53.016698 -112.816639        POINT (-112.8166386 53.01669802)  "
      ]
     },
     "execution_count": 7,
     "metadata": {},
     "output_type": "execute_result"
    }
   ],
   "source": [
    "db.head()"
   ]
  },
  {
   "cell_type": "markdown",
   "metadata": {},
   "source": [
    "*Buscamos graficamente si hay valores faltantes*"
   ]
  },
  {
   "cell_type": "code",
   "execution_count": 14,
   "metadata": {},
   "outputs": [
    {
     "data": {
      "text/plain": [
       "<Axes: >"
      ]
     },
     "execution_count": 14,
     "metadata": {},
     "output_type": "execute_result"
    },
    {
     "data": {
      "image/png": "[encoded data removed]",
      "text/plain": [
       "<Figure size 640x480 with 1 Axes>"
      ]
     },
     "metadata": {},
     "output_type": "display_data"
    }
   ],
   "source": [
    "sns.heatmap(db.isnull(),yticklabels=False,cbar=False,cmap='viridis')"
   ]
  },
  {
   "cell_type": "markdown",
   "metadata": {},
   "source": [
    "Vamos a ver cuántos son"
   ]
  },
  {
   "cell_type": "code",
   "execution_count": 11,
   "metadata": {},
   "outputs": [
    {
     "data": {
      "text/plain": [
       "video_id                     0\n",
       "trending_date                0\n",
       "title                        0\n",
       "channel_title                0\n",
       "category_id                  0\n",
       "publish_time                 0\n",
       "tags                         0\n",
       "views                        0\n",
       "likes                        0\n",
       "dislikes                     0\n",
       "comment_count                0\n",
       "thumbnail_link               0\n",
       "comments_disabled            0\n",
       "ratings_disabled             0\n",
       "video_error_or_removed       0\n",
       "description               1296\n",
       "state                        0\n",
       "lat                          0\n",
       "lon                          0\n",
       "geometry                     0\n",
       "dtype: int64"
      ]
     },
     "execution_count": 11,
     "metadata": {},
     "output_type": "execute_result"
    }
   ],
   "source": [
    "db.isnull().sum()"
   ]
  },
  {
   "cell_type": "markdown",
   "metadata": {},
   "source": [
    "1296 datos equivalen aproximandamente al 3% de los datos totales, por lo cual podemos obviar dichos datos, puesto que no harían mucha diferencia respecto al total."
   ]
  },
  {
   "cell_type": "code",
   "execution_count": 22,
   "metadata": {},
   "outputs": [],
   "source": [
    "db=db.dropna()"
   ]
  },
  {
   "cell_type": "code",
   "execution_count": 24,
   "metadata": {},
   "outputs": [
    {
     "data": {
      "text/plain": [
       "<Axes: >"
      ]
     },
     "execution_count": 24,
     "metadata": {},
     "output_type": "execute_result"
    },
    {
     "data": {
      "image/png": "[encoded data removed]",
      "text/plain": [
       "<Figure size 640x480 with 1 Axes>"
      ]
     },
     "metadata": {},
     "output_type": "display_data"
    }
   ],
   "source": [
    "sns.heatmap(db.isnull(),yticklabels=False,cbar=False,cmap='viridis')"
   ]
  },
  {
   "cell_type": "markdown",
   "metadata": {},
   "source": [
    "*Búsqueda de outliers*"
   ]
  },
  {
   "cell_type": "code",
   "execution_count": 25,
   "metadata": {},
   "outputs": [
    {
     "data": {
      "text/html": [
       "<div>\n",
       "<style scoped>\n",
       "    .dataframe tbody tr th:only-of-type {\n",
       "        vertical-align: middle;\n",
       "    }\n",
       "\n",
       "    .dataframe tbody tr th {\n",
       "        vertical-align: top;\n",
       "    }\n",
       "\n",
       "    .dataframe thead th {\n",
       "        text-align: right;\n",
       "    }\n",
       "</style>\n",
       "<table border=\"1\" class=\"dataframe\">\n",
       "  <thead>\n",
       "    <tr style=\"text-align: right;\">\n",
       "      <th></th>\n",
       "      <th>category_id</th>\n",
       "      <th>views</th>\n",
       "      <th>likes</th>\n",
       "      <th>dislikes</th>\n",
       "      <th>comment_count</th>\n",
       "      <th>lat</th>\n",
       "      <th>lon</th>\n",
       "    </tr>\n",
       "  </thead>\n",
       "  <tbody>\n",
       "    <tr>\n",
       "      <th>count</th>\n",
       "      <td>39585.000000</td>\n",
       "      <td>3.958500e+04</td>\n",
       "      <td>3.958500e+04</td>\n",
       "      <td>3.958500e+04</td>\n",
       "      <td>3.958500e+04</td>\n",
       "      <td>39585.000000</td>\n",
       "      <td>39585.000000</td>\n",
       "    </tr>\n",
       "    <tr>\n",
       "      <th>mean</th>\n",
       "      <td>20.778123</td>\n",
       "      <td>1.169234e+06</td>\n",
       "      <td>4.059694e+04</td>\n",
       "      <td>2.058693e+03</td>\n",
       "      <td>5.159716e+03</td>\n",
       "      <td>52.023377</td>\n",
       "      <td>-88.814717</td>\n",
       "    </tr>\n",
       "    <tr>\n",
       "      <th>std</th>\n",
       "      <td>6.808714</td>\n",
       "      <td>3.437842e+06</td>\n",
       "      <td>1.345967e+05</td>\n",
       "      <td>1.931258e+04</td>\n",
       "      <td>2.189959e+04</td>\n",
       "      <td>7.207378</td>\n",
       "      <td>25.119362</td>\n",
       "    </tr>\n",
       "    <tr>\n",
       "      <th>min</th>\n",
       "      <td>1.000000</td>\n",
       "      <td>7.330000e+02</td>\n",
       "      <td>0.000000e+00</td>\n",
       "      <td>0.000000e+00</td>\n",
       "      <td>0.000000e+00</td>\n",
       "      <td>44.566645</td>\n",
       "      <td>-139.000002</td>\n",
       "    </tr>\n",
       "    <tr>\n",
       "      <th>25%</th>\n",
       "      <td>20.000000</td>\n",
       "      <td>1.497150e+05</td>\n",
       "      <td>2.395000e+03</td>\n",
       "      <td>1.040000e+02</td>\n",
       "      <td>4.420000e+02</td>\n",
       "      <td>46.249282</td>\n",
       "      <td>-110.733329</td>\n",
       "    </tr>\n",
       "    <tr>\n",
       "      <th>50%</th>\n",
       "      <td>24.000000</td>\n",
       "      <td>3.831200e+05</td>\n",
       "      <td>9.244000e+03</td>\n",
       "      <td>3.140000e+02</td>\n",
       "      <td>1.357000e+03</td>\n",
       "      <td>49.822578</td>\n",
       "      <td>-81.236083</td>\n",
       "    </tr>\n",
       "    <tr>\n",
       "      <th>75%</th>\n",
       "      <td>24.000000</td>\n",
       "      <td>9.831390e+05</td>\n",
       "      <td>2.967000e+04</td>\n",
       "      <td>9.760000e+02</td>\n",
       "      <td>3.821000e+03</td>\n",
       "      <td>53.016698</td>\n",
       "      <td>-64.347995</td>\n",
       "    </tr>\n",
       "    <tr>\n",
       "      <th>max</th>\n",
       "      <td>43.000000</td>\n",
       "      <td>1.378431e+08</td>\n",
       "      <td>5.053338e+06</td>\n",
       "      <td>1.602383e+06</td>\n",
       "      <td>1.114800e+06</td>\n",
       "      <td>68.767467</td>\n",
       "      <td>-57.426919</td>\n",
       "    </tr>\n",
       "  </tbody>\n",
       "</table>\n",
       "</div>"
      ],
      "text/plain": [
       "        category_id         views         likes      dislikes  comment_count  \\\n",
       "count  39585.000000  3.958500e+04  3.958500e+04  3.958500e+04   3.958500e+04   \n",
       "mean      20.778123  1.169234e+06  4.059694e+04  2.058693e+03   5.159716e+03   \n",
       "std        6.808714  3.437842e+06  1.345967e+05  1.931258e+04   2.189959e+04   \n",
       "min        1.000000  7.330000e+02  0.000000e+00  0.000000e+00   0.000000e+00   \n",
       "25%       20.000000  1.497150e+05  2.395000e+03  1.040000e+02   4.420000e+02   \n",
       "50%       24.000000  3.831200e+05  9.244000e+03  3.140000e+02   1.357000e+03   \n",
       "75%       24.000000  9.831390e+05  2.967000e+04  9.760000e+02   3.821000e+03   \n",
       "max       43.000000  1.378431e+08  5.053338e+06  1.602383e+06   1.114800e+06   \n",
       "\n",
       "                lat           lon  \n",
       "count  39585.000000  39585.000000  \n",
       "mean      52.023377    -88.814717  \n",
       "std        7.207378     25.119362  \n",
       "min       44.566645   -139.000002  \n",
       "25%       46.249282   -110.733329  \n",
       "50%       49.822578    -81.236083  \n",
       "75%       53.016698    -64.347995  \n",
       "max       68.767467    -57.426919  "
      ]
     },
     "execution_count": 25,
     "metadata": {},
     "output_type": "execute_result"
    }
   ],
   "source": [
    "db.describe()"
   ]
  },
  {
   "cell_type": "code",
   "execution_count": 52,
   "metadata": {},
   "outputs": [],
   "source": [
    "def transform_outliers_to_median(data):\n",
    "    median_value = np.median(data)\n",
    "    q1, q3 = np.percentile(data, [25, 75])\n",
    "    iqr = q3 - q1\n",
    "    lower_bound = q1 - 3 * iqr\n",
    "    upper_bound = q3 + 3 * iqr\n",
    "    \n",
    "    transformed_data = np.where((data < lower_bound) | (data > upper_bound), median_value, data)\n",
    "    return transformed_data"
   ]
  },
  {
   "cell_type": "code",
   "execution_count": 89,
   "metadata": {},
   "outputs": [],
   "source": [
    "db_sin_outliers=db\n",
    "\n",
    "db_sin_outliers['views']=transform_outliers_to_median(db['views'])\n",
    "db_sin_outliers['likes']=transform_outliers_to_median(db['likes'])\n",
    "db_sin_outliers['dislikes']=transform_outliers_to_median(db['dislikes'])\n",
    "db_sin_outliers['comment_count']=transform_outliers_to_median(db['comment_count'])"
   ]
  },
  {
   "cell_type": "markdown",
   "metadata": {},
   "source": [
    "views"
   ]
  },
  {
   "cell_type": "code",
   "execution_count": 90,
   "metadata": {},
   "outputs": [
    {
     "data": {
      "text/plain": [
       "<Axes: ylabel='views'>"
      ]
     },
     "execution_count": 90,
     "metadata": {},
     "output_type": "execute_result"
    },
    {
     "data": {
      "image/png": "[encoded data removed]",
      "text/plain": [
       "<Figure size 640x480 with 1 Axes>"
      ]
     },
     "metadata": {},
     "output_type": "display_data"
    }
   ],
   "source": [
    "sns.boxplot(db_sin_outliers['views'])"
   ]
  },
  {
   "cell_type": "code",
   "execution_count": 59,
   "metadata": {},
   "outputs": [
    {
     "data": {
      "text/plain": [
       "<Axes: ylabel='views'>"
      ]
     },
     "execution_count": 59,
     "metadata": {},
     "output_type": "execute_result"
    },
    {
     "data": {
      "image/png": "[encoded data removed]",
      "text/plain": [
       "<Figure size 640x480 with 1 Axes>"
      ]
     },
     "metadata": {},
     "output_type": "display_data"
    }
   ],
   "source": [
    "sns.boxplot(y=db['views'])"
   ]
  },
  {
   "cell_type": "markdown",
   "metadata": {},
   "source": [
    "likes"
   ]
  },
  {
   "cell_type": "code",
   "execution_count": 91,
   "metadata": {},
   "outputs": [
    {
     "data": {
      "text/plain": [
       "<Axes: ylabel='likes'>"
      ]
     },
     "execution_count": 91,
     "metadata": {},
     "output_type": "execute_result"
    },
    {
     "data": {
      "image/png": "[encoded data removed]",
      "text/plain": [
       "<Figure size 640x480 with 1 Axes>"
      ]
     },
     "metadata": {},
     "output_type": "display_data"
    }
   ],
   "source": [
    "sns.boxplot(db_sin_outliers['likes'])"
   ]
  },
  {
   "cell_type": "code",
   "execution_count": 30,
   "metadata": {},
   "outputs": [
    {
     "data": {
      "text/plain": [
       "<Axes: ylabel='likes'>"
      ]
     },
     "execution_count": 30,
     "metadata": {},
     "output_type": "execute_result"
    },
    {
     "data": {
      "image/png": "[encoded data removed]",
      "text/plain": [
       "<Figure size 640x480 with 1 Axes>"
      ]
     },
     "metadata": {},
     "output_type": "display_data"
    }
   ],
   "source": [
    "sns.boxplot(y=db['likes'])"
   ]
  },
  {
   "cell_type": "markdown",
   "metadata": {},
   "source": [
    "dislikes"
   ]
  },
  {
   "cell_type": "code",
   "execution_count": 93,
   "metadata": {},
   "outputs": [
    {
     "data": {
      "text/plain": [
       "<Axes: ylabel='dislikes'>"
      ]
     },
     "execution_count": 93,
     "metadata": {},
     "output_type": "execute_result"
    },
    {
     "data": {
      "image/png": "[encoded data removed]",
      "text/plain": [
       "<Figure size 640x480 with 1 Axes>"
      ]
     },
     "metadata": {},
     "output_type": "display_data"
    }
   ],
   "source": [
    "sns.boxplot(db_sin_outliers['dislikes']) "
   ]
  },
  {
   "cell_type": "code",
   "execution_count": 31,
   "metadata": {},
   "outputs": [
    {
     "data": {
      "text/plain": [
       "<Axes: ylabel='dislikes'>"
      ]
     },
     "execution_count": 31,
     "metadata": {},
     "output_type": "execute_result"
    },
    {
     "data": {
      "image/png": "[encoded data removed]",
      "text/plain": [
       "<Figure size 640x480 with 1 Axes>"
      ]
     },
     "metadata": {},
     "output_type": "display_data"
    }
   ],
   "source": [
    "sns.boxplot(y=db['dislikes'])"
   ]
  },
  {
   "cell_type": "markdown",
   "metadata": {},
   "source": [
    "comment count"
   ]
  },
  {
   "cell_type": "code",
   "execution_count": 92,
   "metadata": {},
   "outputs": [
    {
     "data": {
      "text/plain": [
       "<Axes: ylabel='comment_count'>"
      ]
     },
     "execution_count": 92,
     "metadata": {},
     "output_type": "execute_result"
    },
    {
     "data": {
      "image/png": "[encoded data removed]",
      "text/plain": [
       "<Figure size 640x480 with 1 Axes>"
      ]
     },
     "metadata": {},
     "output_type": "display_data"
    }
   ],
   "source": [
    "sns.boxplot(db_sin_outliers['comment_count']) "
   ]
  },
  {
   "cell_type": "code",
   "execution_count": 32,
   "metadata": {},
   "outputs": [
    {
     "data": {
      "text/plain": [
       "<Axes: ylabel='comment_count'>"
      ]
     },
     "execution_count": 32,
     "metadata": {},
     "output_type": "execute_result"
    },
    {
     "data": {
      "image/png": "[encoded data removed]",
      "text/plain": [
       "<Figure size 640x480 with 1 Axes>"
      ]
     },
     "metadata": {},
     "output_type": "display_data"
    }
   ],
   "source": [
    "sns.boxplot(y=db['comment_count'])"
   ]
  },
  {
   "cell_type": "markdown",
   "metadata": {},
   "source": [
    "eliminando columnas innecesarias"
   ]
  },
  {
   "cell_type": "code",
   "execution_count": 63,
   "metadata": {},
   "outputs": [
    {
     "name": "stdout",
     "output_type": "stream",
     "text": [
      "<class 'pandas.core.frame.DataFrame'>\n",
      "Index: 39585 entries, 0 to 40880\n",
      "Data columns (total 20 columns):\n",
      " #   Column                  Non-Null Count  Dtype  \n",
      "---  ------                  --------------  -----  \n",
      " 0   video_id                39585 non-null  object \n",
      " 1   trending_date           39585 non-null  object \n",
      " 2   title                   39585 non-null  object \n",
      " 3   channel_title           39585 non-null  object \n",
      " 4   category_id             39585 non-null  int64  \n",
      " 5   publish_time            39585 non-null  object \n",
      " 6   tags                    39585 non-null  object \n",
      " 7   views                   39585 non-null  int64  \n",
      " 8   likes                   39585 non-null  int64  \n",
      " 9   dislikes                39585 non-null  int64  \n",
      " 10  comment_count           39585 non-null  int64  \n",
      " 11  thumbnail_link          39585 non-null  object \n",
      " 12  comments_disabled       39585 non-null  bool   \n",
      " 13  ratings_disabled        39585 non-null  bool   \n",
      " 14  video_error_or_removed  39585 non-null  bool   \n",
      " 15  description             39585 non-null  object \n",
      " 16  state                   39585 non-null  object \n",
      " 17  lat                     39585 non-null  float64\n",
      " 18  lon                     39585 non-null  float64\n",
      " 19  geometry                39585 non-null  object \n",
      "dtypes: bool(3), float64(2), int64(5), object(10)\n",
      "memory usage: 6.6+ MB\n"
     ]
    }
   ],
   "source": [
    "db.info()"
   ]
  },
  {
   "cell_type": "code",
   "execution_count": 64,
   "metadata": {},
   "outputs": [],
   "source": [
    "db_sin_outliers.drop('thumbnail_link',axis=1,inplace=True)\n",
    "db_sin_outliers.drop('description',axis=1,inplace=True)"
   ]
  },
  {
   "cell_type": "code",
   "execution_count": 94,
   "metadata": {},
   "outputs": [],
   "source": [
    "scaler = MinMaxScaler()\n",
    "db_sin_outliers['new_views'] = scaler.fit_transform(db_sin_outliers[['views']])\n",
    "db_sin_outliers['new_likes'] = scaler.fit_transform(db_sin_outliers[['likes']])\n",
    "db_sin_outliers['new_dislikes'] = scaler.fit_transform(db_sin_outliers[['dislikes']])\n",
    "db_sin_outliers['new_comment_count'] = scaler.fit_transform(db_sin_outliers[['comment_count']])"
   ]
  },
  {
   "cell_type": "code",
   "execution_count": 95,
   "metadata": {},
   "outputs": [
    {
     "data": {
      "text/html": [
       "<div>\n",
       "<style scoped>\n",
       "    .dataframe tbody tr th:only-of-type {\n",
       "        vertical-align: middle;\n",
       "    }\n",
       "\n",
       "    .dataframe tbody tr th {\n",
       "        vertical-align: top;\n",
       "    }\n",
       "\n",
       "    .dataframe thead th {\n",
       "        text-align: right;\n",
       "    }\n",
       "</style>\n",
       "<table border=\"1\" class=\"dataframe\">\n",
       "  <thead>\n",
       "    <tr style=\"text-align: right;\">\n",
       "      <th></th>\n",
       "      <th>category_id</th>\n",
       "      <th>views</th>\n",
       "      <th>likes</th>\n",
       "      <th>dislikes</th>\n",
       "      <th>comment_count</th>\n",
       "      <th>lat</th>\n",
       "      <th>lon</th>\n",
       "      <th>new_views</th>\n",
       "      <th>new_likes</th>\n",
       "      <th>new_dislikes</th>\n",
       "      <th>new_comment_count</th>\n",
       "    </tr>\n",
       "  </thead>\n",
       "  <tbody>\n",
       "    <tr>\n",
       "      <th>count</th>\n",
       "      <td>39585.000000</td>\n",
       "      <td>3.958500e+04</td>\n",
       "      <td>39585.000000</td>\n",
       "      <td>39585.000000</td>\n",
       "      <td>39585.000000</td>\n",
       "      <td>39585.000000</td>\n",
       "      <td>39585.000000</td>\n",
       "      <td>39585.000000</td>\n",
       "      <td>39585.000000</td>\n",
       "      <td>39585.000000</td>\n",
       "      <td>39585.000000</td>\n",
       "    </tr>\n",
       "    <tr>\n",
       "      <th>mean</th>\n",
       "      <td>20.778123</td>\n",
       "      <td>5.967367e+05</td>\n",
       "      <td>16157.893874</td>\n",
       "      <td>528.792699</td>\n",
       "      <td>2187.057749</td>\n",
       "      <td>52.023377</td>\n",
       "      <td>-88.814717</td>\n",
       "      <td>0.171146</td>\n",
       "      <td>0.144929</td>\n",
       "      <td>0.147255</td>\n",
       "      <td>0.156970</td>\n",
       "    </tr>\n",
       "    <tr>\n",
       "      <th>std</th>\n",
       "      <td>6.808714</td>\n",
       "      <td>6.756401e+05</td>\n",
       "      <td>21348.665614</td>\n",
       "      <td>678.688313</td>\n",
       "      <td>2678.181124</td>\n",
       "      <td>7.207378</td>\n",
       "      <td>25.119362</td>\n",
       "      <td>0.194014</td>\n",
       "      <td>0.191488</td>\n",
       "      <td>0.188997</td>\n",
       "      <td>0.192219</td>\n",
       "    </tr>\n",
       "    <tr>\n",
       "      <th>min</th>\n",
       "      <td>1.000000</td>\n",
       "      <td>7.330000e+02</td>\n",
       "      <td>0.000000</td>\n",
       "      <td>0.000000</td>\n",
       "      <td>0.000000</td>\n",
       "      <td>44.566645</td>\n",
       "      <td>-139.000002</td>\n",
       "      <td>0.000000</td>\n",
       "      <td>0.000000</td>\n",
       "      <td>0.000000</td>\n",
       "      <td>0.000000</td>\n",
       "    </tr>\n",
       "    <tr>\n",
       "      <th>25%</th>\n",
       "      <td>20.000000</td>\n",
       "      <td>1.497150e+05</td>\n",
       "      <td>2395.000000</td>\n",
       "      <td>104.000000</td>\n",
       "      <td>442.000000</td>\n",
       "      <td>46.249282</td>\n",
       "      <td>-110.733329</td>\n",
       "      <td>0.042781</td>\n",
       "      <td>0.021482</td>\n",
       "      <td>0.028961</td>\n",
       "      <td>0.031723</td>\n",
       "    </tr>\n",
       "    <tr>\n",
       "      <th>50%</th>\n",
       "      <td>24.000000</td>\n",
       "      <td>3.831200e+05</td>\n",
       "      <td>9244.000000</td>\n",
       "      <td>314.000000</td>\n",
       "      <td>1357.000000</td>\n",
       "      <td>49.822578</td>\n",
       "      <td>-81.236083</td>\n",
       "      <td>0.109805</td>\n",
       "      <td>0.082915</td>\n",
       "      <td>0.087441</td>\n",
       "      <td>0.097395</td>\n",
       "    </tr>\n",
       "    <tr>\n",
       "      <th>75%</th>\n",
       "      <td>24.000000</td>\n",
       "      <td>7.579970e+05</td>\n",
       "      <td>19809.000000</td>\n",
       "      <td>630.000000</td>\n",
       "      <td>2714.000000</td>\n",
       "      <td>53.016698</td>\n",
       "      <td>-64.347995</td>\n",
       "      <td>0.217453</td>\n",
       "      <td>0.177678</td>\n",
       "      <td>0.175439</td>\n",
       "      <td>0.194789</td>\n",
       "    </tr>\n",
       "    <tr>\n",
       "      <th>max</th>\n",
       "      <td>43.000000</td>\n",
       "      <td>3.483165e+06</td>\n",
       "      <td>111488.000000</td>\n",
       "      <td>3591.000000</td>\n",
       "      <td>13933.000000</td>\n",
       "      <td>68.767467</td>\n",
       "      <td>-57.426919</td>\n",
       "      <td>1.000000</td>\n",
       "      <td>1.000000</td>\n",
       "      <td>1.000000</td>\n",
       "      <td>1.000000</td>\n",
       "    </tr>\n",
       "  </tbody>\n",
       "</table>\n",
       "</div>"
      ],
      "text/plain": [
       "        category_id         views          likes      dislikes  comment_count  \\\n",
       "count  39585.000000  3.958500e+04   39585.000000  39585.000000   39585.000000   \n",
       "mean      20.778123  5.967367e+05   16157.893874    528.792699    2187.057749   \n",
       "std        6.808714  6.756401e+05   21348.665614    678.688313    2678.181124   \n",
       "min        1.000000  7.330000e+02       0.000000      0.000000       0.000000   \n",
       "25%       20.000000  1.497150e+05    2395.000000    104.000000     442.000000   \n",
       "50%       24.000000  3.831200e+05    9244.000000    314.000000    1357.000000   \n",
       "75%       24.000000  7.579970e+05   19809.000000    630.000000    2714.000000   \n",
       "max       43.000000  3.483165e+06  111488.000000   3591.000000   13933.000000   \n",
       "\n",
       "                lat           lon     new_views     new_likes  new_dislikes  \\\n",
       "count  39585.000000  39585.000000  39585.000000  39585.000000  39585.000000   \n",
       "mean      52.023377    -88.814717      0.171146      0.144929      0.147255   \n",
       "std        7.207378     25.119362      0.194014      0.191488      0.188997   \n",
       "min       44.566645   -139.000002      0.000000      0.000000      0.000000   \n",
       "25%       46.249282   -110.733329      0.042781      0.021482      0.028961   \n",
       "50%       49.822578    -81.236083      0.109805      0.082915      0.087441   \n",
       "75%       53.016698    -64.347995      0.217453      0.177678      0.175439   \n",
       "max       68.767467    -57.426919      1.000000      1.000000      1.000000   \n",
       "\n",
       "       new_comment_count  \n",
       "count       39585.000000  \n",
       "mean            0.156970  \n",
       "std             0.192219  \n",
       "min             0.000000  \n",
       "25%             0.031723  \n",
       "50%             0.097395  \n",
       "75%             0.194789  \n",
       "max             1.000000  "
      ]
     },
     "execution_count": 95,
     "metadata": {},
     "output_type": "execute_result"
    }
   ],
   "source": [
    "db_sin_outliers.describe()"
   ]
  },
  {
   "cell_type": "code",
   "execution_count": 97,
   "metadata": {},
   "outputs": [
    {
     "data": {
      "text/html": [
       "<div>\n",
       "<style scoped>\n",
       "    .dataframe tbody tr th:only-of-type {\n",
       "        vertical-align: middle;\n",
       "    }\n",
       "\n",
       "    .dataframe tbody tr th {\n",
       "        vertical-align: top;\n",
       "    }\n",
       "\n",
       "    .dataframe thead th {\n",
       "        text-align: right;\n",
       "    }\n",
       "</style>\n",
       "<table border=\"1\" class=\"dataframe\">\n",
       "  <thead>\n",
       "    <tr style=\"text-align: right;\">\n",
       "      <th></th>\n",
       "      <th>video_id</th>\n",
       "      <th>trending_date</th>\n",
       "      <th>title</th>\n",
       "      <th>channel_title</th>\n",
       "      <th>category_id</th>\n",
       "      <th>publish_time</th>\n",
       "      <th>tags</th>\n",
       "      <th>views</th>\n",
       "      <th>likes</th>\n",
       "      <th>dislikes</th>\n",
       "      <th>...</th>\n",
       "      <th>ratings_disabled</th>\n",
       "      <th>video_error_or_removed</th>\n",
       "      <th>state</th>\n",
       "      <th>lat</th>\n",
       "      <th>lon</th>\n",
       "      <th>geometry</th>\n",
       "      <th>new_views</th>\n",
       "      <th>new_likes</th>\n",
       "      <th>new_dislikes</th>\n",
       "      <th>new_comment_count</th>\n",
       "    </tr>\n",
       "  </thead>\n",
       "  <tbody>\n",
       "    <tr>\n",
       "      <th>0</th>\n",
       "      <td>n1WpP7iowLc</td>\n",
       "      <td>17.14.11</td>\n",
       "      <td>Eminem - Walk On Water (Audio) ft. Beyoncé</td>\n",
       "      <td>EminemVEVO</td>\n",
       "      <td>10</td>\n",
       "      <td>2017-11-10T17:00:03.000Z</td>\n",
       "      <td>Eminem|\"Walk\"|\"On\"|\"Water\"|\"Aftermath/Shady/In...</td>\n",
       "      <td>383120.0</td>\n",
       "      <td>9244.0</td>\n",
       "      <td>314.0</td>\n",
       "      <td>...</td>\n",
       "      <td>False</td>\n",
       "      <td>False</td>\n",
       "      <td>Manitoba</td>\n",
       "      <td>50.150025</td>\n",
       "      <td>-96.883322</td>\n",
       "      <td>POINT (-96.88332178 50.15002545)</td>\n",
       "      <td>0.109805</td>\n",
       "      <td>0.082915</td>\n",
       "      <td>0.087441</td>\n",
       "      <td>0.097395</td>\n",
       "    </tr>\n",
       "    <tr>\n",
       "      <th>1</th>\n",
       "      <td>0dBIkQ4Mz1M</td>\n",
       "      <td>17.14.11</td>\n",
       "      <td>PLUSH - Bad Unboxing Fan Mail</td>\n",
       "      <td>iDubbbzTV</td>\n",
       "      <td>23</td>\n",
       "      <td>2017-11-13T17:00:00.000Z</td>\n",
       "      <td>plush|\"bad unboxing\"|\"unboxing\"|\"fan mail\"|\"id...</td>\n",
       "      <td>1014651.0</td>\n",
       "      <td>9244.0</td>\n",
       "      <td>1688.0</td>\n",
       "      <td>...</td>\n",
       "      <td>False</td>\n",
       "      <td>False</td>\n",
       "      <td>British Columbia</td>\n",
       "      <td>49.099960</td>\n",
       "      <td>-116.516697</td>\n",
       "      <td>POINT (-116.516697 49.09996035)</td>\n",
       "      <td>0.291152</td>\n",
       "      <td>0.082915</td>\n",
       "      <td>0.470064</td>\n",
       "      <td>0.935190</td>\n",
       "    </tr>\n",
       "    <tr>\n",
       "      <th>2</th>\n",
       "      <td>5qpjK5DgCt4</td>\n",
       "      <td>17.14.11</td>\n",
       "      <td>Racist Superman | Rudy Mancuso, King Bach &amp; Le...</td>\n",
       "      <td>Rudy Mancuso</td>\n",
       "      <td>23</td>\n",
       "      <td>2017-11-12T19:05:24.000Z</td>\n",
       "      <td>racist superman|\"rudy\"|\"mancuso\"|\"king\"|\"bach\"...</td>\n",
       "      <td>3191434.0</td>\n",
       "      <td>9244.0</td>\n",
       "      <td>314.0</td>\n",
       "      <td>...</td>\n",
       "      <td>False</td>\n",
       "      <td>False</td>\n",
       "      <td>New Brunswick</td>\n",
       "      <td>45.267042</td>\n",
       "      <td>-66.076675</td>\n",
       "      <td>POINT (-66.07667505000001 45.26704185)</td>\n",
       "      <td>0.916228</td>\n",
       "      <td>0.082915</td>\n",
       "      <td>0.087441</td>\n",
       "      <td>0.587167</td>\n",
       "    </tr>\n",
       "    <tr>\n",
       "      <th>3</th>\n",
       "      <td>d380meD0W0M</td>\n",
       "      <td>17.14.11</td>\n",
       "      <td>I Dare You: GOING BALD!?</td>\n",
       "      <td>nigahiga</td>\n",
       "      <td>24</td>\n",
       "      <td>2017-11-12T18:01:41.000Z</td>\n",
       "      <td>ryan|\"higa\"|\"higatv\"|\"nigahiga\"|\"i dare you\"|\"...</td>\n",
       "      <td>2095828.0</td>\n",
       "      <td>9244.0</td>\n",
       "      <td>1989.0</td>\n",
       "      <td>...</td>\n",
       "      <td>False</td>\n",
       "      <td>False</td>\n",
       "      <td>Saskatchewan</td>\n",
       "      <td>50.933311</td>\n",
       "      <td>-102.799989</td>\n",
       "      <td>POINT (-102.7999891 50.93331097)</td>\n",
       "      <td>0.601618</td>\n",
       "      <td>0.082915</td>\n",
       "      <td>0.553885</td>\n",
       "      <td>0.097395</td>\n",
       "    </tr>\n",
       "    <tr>\n",
       "      <th>4</th>\n",
       "      <td>2Vv-BfVoq4g</td>\n",
       "      <td>17.14.11</td>\n",
       "      <td>Ed Sheeran - Perfect (Official Music Video)</td>\n",
       "      <td>Ed Sheeran</td>\n",
       "      <td>10</td>\n",
       "      <td>2017-11-09T11:04:14.000Z</td>\n",
       "      <td>edsheeran|\"ed sheeran\"|\"acoustic\"|\"live\"|\"cove...</td>\n",
       "      <td>383120.0</td>\n",
       "      <td>9244.0</td>\n",
       "      <td>314.0</td>\n",
       "      <td>...</td>\n",
       "      <td>False</td>\n",
       "      <td>False</td>\n",
       "      <td>Alberta</td>\n",
       "      <td>53.016698</td>\n",
       "      <td>-112.816639</td>\n",
       "      <td>POINT (-112.8166386 53.01669802)</td>\n",
       "      <td>0.109805</td>\n",
       "      <td>0.082915</td>\n",
       "      <td>0.087441</td>\n",
       "      <td>0.097395</td>\n",
       "    </tr>\n",
       "  </tbody>\n",
       "</table>\n",
       "<p>5 rows × 22 columns</p>\n",
       "</div>"
      ],
      "text/plain": [
       "      video_id trending_date  \\\n",
       "0  n1WpP7iowLc      17.14.11   \n",
       "1  0dBIkQ4Mz1M      17.14.11   \n",
       "2  5qpjK5DgCt4      17.14.11   \n",
       "3  d380meD0W0M      17.14.11   \n",
       "4  2Vv-BfVoq4g      17.14.11   \n",
       "\n",
       "                                               title channel_title  \\\n",
       "0         Eminem - Walk On Water (Audio) ft. Beyoncé    EminemVEVO   \n",
       "1                      PLUSH - Bad Unboxing Fan Mail     iDubbbzTV   \n",
       "2  Racist Superman | Rudy Mancuso, King Bach & Le...  Rudy Mancuso   \n",
       "3                           I Dare You: GOING BALD!?      nigahiga   \n",
       "4        Ed Sheeran - Perfect (Official Music Video)    Ed Sheeran   \n",
       "\n",
       "   category_id              publish_time  \\\n",
       "0           10  2017-11-10T17:00:03.000Z   \n",
       "1           23  2017-11-13T17:00:00.000Z   \n",
       "2           23  2017-11-12T19:05:24.000Z   \n",
       "3           24  2017-11-12T18:01:41.000Z   \n",
       "4           10  2017-11-09T11:04:14.000Z   \n",
       "\n",
       "                                                tags      views   likes  \\\n",
       "0  Eminem|\"Walk\"|\"On\"|\"Water\"|\"Aftermath/Shady/In...   383120.0  9244.0   \n",
       "1  plush|\"bad unboxing\"|\"unboxing\"|\"fan mail\"|\"id...  1014651.0  9244.0   \n",
       "2  racist superman|\"rudy\"|\"mancuso\"|\"king\"|\"bach\"...  3191434.0  9244.0   \n",
       "3  ryan|\"higa\"|\"higatv\"|\"nigahiga\"|\"i dare you\"|\"...  2095828.0  9244.0   \n",
       "4  edsheeran|\"ed sheeran\"|\"acoustic\"|\"live\"|\"cove...   383120.0  9244.0   \n",
       "\n",
       "   dislikes  ...  ratings_disabled  video_error_or_removed             state  \\\n",
       "0     314.0  ...             False                   False          Manitoba   \n",
       "1    1688.0  ...             False                   False  British Columbia   \n",
       "2     314.0  ...             False                   False     New Brunswick   \n",
       "3    1989.0  ...             False                   False      Saskatchewan   \n",
       "4     314.0  ...             False                   False           Alberta   \n",
       "\n",
       "         lat         lon                                geometry  new_views  \\\n",
       "0  50.150025  -96.883322        POINT (-96.88332178 50.15002545)   0.109805   \n",
       "1  49.099960 -116.516697         POINT (-116.516697 49.09996035)   0.291152   \n",
       "2  45.267042  -66.076675  POINT (-66.07667505000001 45.26704185)   0.916228   \n",
       "3  50.933311 -102.799989        POINT (-102.7999891 50.93331097)   0.601618   \n",
       "4  53.016698 -112.816639        POINT (-112.8166386 53.01669802)   0.109805   \n",
       "\n",
       "  new_likes  new_dislikes  new_comment_count  \n",
       "0  0.082915      0.087441           0.097395  \n",
       "1  0.082915      0.470064           0.935190  \n",
       "2  0.082915      0.087441           0.587167  \n",
       "3  0.082915      0.553885           0.097395  \n",
       "4  0.082915      0.087441           0.097395  \n",
       "\n",
       "[5 rows x 22 columns]"
      ]
     },
     "execution_count": 97,
     "metadata": {},
     "output_type": "execute_result"
    }
   ],
   "source": [
    "db_sin_outliers.head()"
   ]
  }
 ],
 "metadata": {
  "kernelspec": {
   "display_name": "Python 3",
   "language": "python",
   "name": "python3"
  },
  "language_info": {
   "codemirror_mode": {
    "name": "ipython",
    "version": 3
   },
   "file_extension": ".py",
   "mimetype": "text/x-python",
   "name": "python",
   "nbconvert_exporter": "python",
   "pygments_lexer": "ipython3",
   "version": "3.11.9"
  }
 },
 "nbformat": 4,
 "nbformat_minor": 2
}
